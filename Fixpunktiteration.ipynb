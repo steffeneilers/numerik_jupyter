{
 "cells": [
  {
   "cell_type": "code",
   "execution_count": 1,
   "metadata": {},
   "outputs": [],
   "source": [
    "import sympy as sy\n",
    "\n",
    "def y1(x):\n",
    "    return sy.sqrt((6*sy.log(x)+8)/3)\n",
    "def y2(x):\n",
    "    return sy.exp((3*x**2-8)/6)"
   ]
  },
  {
   "cell_type": "code",
   "execution_count": 8,
   "metadata": {},
   "outputs": [
    {
     "name": "stdout",
     "output_type": "stream",
     "text": [
      "x 1 = 1.39230151882465*I\n",
      "x 2 = 1.98816476252281 + 0.790073517247981*I\n"
     ]
    }
   ],
   "source": [
    "x0=0.1\n",
    "\n",
    "xprev=x0\n",
    "xnext=0\n",
    "for i in range (1,3):\n",
    "    xnext=y1(xprev).evalf()\n",
    "    print(\"x\",i,\"=\",xnext)\n",
    "    xprev=xnext"
   ]
  },
  {
   "cell_type": "markdown",
   "metadata": {},
   "source": [
    "### Ableitungen"
   ]
  },
  {
   "cell_type": "code",
   "execution_count": 8,
   "metadata": {},
   "outputs": [
    {
     "name": "stdout",
     "output_type": "stream",
     "text": [
      "y1'(x*1)= 0.245675465205497\n",
      "y1'(x*2)= 13.3535203537457\n",
      "y2'(x*1)= 4.07041052782493\n",
      "y2'(x*2)= 0.0748866196708920\n"
     ]
    }
   ],
   "source": [
    "xs1= 2.017525843161\n",
    "xs2= 0.273654197247 \n",
    "\n",
    "x=sy.symbols('x')\n",
    "yy1=sy.diff(y1(x))\n",
    "yy2=sy.diff(y2(x))\n",
    "print(\"y1'(x*1)=\",yy1.subs(x,xs1))\n",
    "print(\"y1'(x*2)=\",yy1.subs(x,xs2))\n",
    "print(\"y2'(x*1)=\",yy2.subs(x,xs1))\n",
    "print(\"y2'(x*2)=\",yy2.subs(x,xs2))"
   ]
  }
 ],
 "metadata": {
  "kernelspec": {
   "display_name": "Python 3 (ipykernel)",
   "language": "python",
   "name": "python3"
  },
  "language_info": {
   "codemirror_mode": {
    "name": "ipython",
    "version": 3
   },
   "file_extension": ".py",
   "mimetype": "text/x-python",
   "name": "python",
   "nbconvert_exporter": "python",
   "pygments_lexer": "ipython3",
   "version": "3.9.7"
  }
 },
 "nbformat": 4,
 "nbformat_minor": 4
}
