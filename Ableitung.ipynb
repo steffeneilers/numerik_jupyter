{
 "cells": [
  {
   "cell_type": "markdown",
   "metadata": {},
   "source": [
    "### Ableitung mit Sympy"
   ]
  },
  {
   "cell_type": "code",
   "execution_count": 2,
   "metadata": {},
   "outputs": [
    {
     "name": "stdout",
     "output_type": "stream",
     "text": [
      "f'(x0)= 10.0443046891370\n",
      "f''(x0)= -4.66629136586861\n",
      "f'''(x0)= -255.427450012985\n"
     ]
    }
   ],
   "source": [
    "import sympy as sy\n",
    "\n",
    "x0=5\n",
    "h=0.009\n",
    "def f(x):\n",
    "    return (7-x)*sy.sin(x**2/2)+13\n",
    "\n",
    "sy.init_printing()\n",
    "x=sy.symbols('x')\n",
    "f1=sy.diff(f(x))\n",
    "f2=sy.diff(f1)\n",
    "f3=sy.diff(f2)\n",
    "print(\"f'(x0)=\",f1.evalf(subs={x:x0}))\n",
    "print(\"f''(x0)=\",f2.evalf(subs={x:x0}))\n",
    "print(\"f'''(x0)=\",f3.evalf(subs={x:x0}))"
   ]
  },
  {
   "cell_type": "code",
   "execution_count": 3,
   "metadata": {},
   "outputs": [
    {
     "name": "stdout",
     "output_type": "stream",
     "text": [
      "f'(x) 10.0198619182201\n",
      "f''(x) -6.95854122473646\n",
      "f'''(x) -253.203698442258\n"
     ]
    }
   ],
   "source": [
    "### Vorwärtsdifferenzenquotient ###\n",
    "\n",
    "def ff(x):\n",
    "    return (f(x+h)-f(x))/h\n",
    "def fff(x):\n",
    "    return (ff(x+h)-ff(x))/h\n",
    "def ffff(x):\n",
    "    return (fff(x+h)-fff(x))/h\n",
    "\n",
    "print(\"f'(x)\",ff(x0))\n",
    "print(\"f''(x)\",fff(x0))\n",
    "print(\"f'''(x)\",ffff(x0))"
   ]
  },
  {
   "cell_type": "code",
   "execution_count": 4,
   "metadata": {},
   "outputs": [
    {
     "name": "stdout",
     "output_type": "stream",
     "text": [
      "f'(x) 10.0618516706859\n",
      "f''(x) -2.36335262819942\n",
      "f'''(x) -256.259846323282\n"
     ]
    }
   ],
   "source": [
    "### Rückwärtsdifferenzenquotient ###\n",
    "\n",
    "def ff(x):\n",
    "    return (f(x)-f(x-h))/h\n",
    "def fff(x):\n",
    "    return (ff(x)-ff(x-h))/h\n",
    "def ffff(x):\n",
    "    return (fff(x)-fff(x-h))/h\n",
    "\n",
    "print(\"f'(x)\",ff(x0))\n",
    "print(\"f''(x)\",fff(x0))\n",
    "print(\"f'''(x)\",ffff(x0))"
   ]
  },
  {
   "cell_type": "code",
   "execution_count": 6,
   "metadata": {},
   "outputs": [
    {
     "name": "stdout",
     "output_type": "stream",
     "text": [
      "f'(x) 10.0408567944530\n",
      "f''(x) -4.66552805175225\n",
      "f'''(x) -255.288255363173\n"
     ]
    }
   ],
   "source": [
    "### Zentraler Differenzenquotient ###\n",
    "\n",
    "def ff(x):\n",
    "    return (f(x+h)-f(x-h))/(2*h)\n",
    "def fff(x):\n",
    "    return (f(x+h)-2*f(x)+f(x-h))/(h**2)\n",
    "def ffff(x):\n",
    "    return (fff(x+h)-fff(x-h))/(2*h)\n",
    "\n",
    "print(\"f'(x)\",ff(x0))\n",
    "print(\"f''(x)\",fff(x0))\n",
    "print(\"f'''(x)\",ffff(x0))"
   ]
  },
  {
   "cell_type": "code",
   "execution_count": null,
   "metadata": {},
   "outputs": [],
   "source": []
  }
 ],
 "metadata": {
  "interpreter": {
   "hash": "abd60b26aabfab18cec367dbcad95097cae573dede1b6129e8db5084af4b4122"
  },
  "kernelspec": {
   "display_name": "Python 3 (ipykernel)",
   "language": "python",
   "name": "python3"
  },
  "language_info": {
   "codemirror_mode": {
    "name": "ipython",
    "version": 3
   },
   "file_extension": ".py",
   "mimetype": "text/x-python",
   "name": "python",
   "nbconvert_exporter": "python",
   "pygments_lexer": "ipython3",
   "version": "3.9.7"
  }
 },
 "nbformat": 4,
 "nbformat_minor": 4
}
