{
 "cells": [
  {
   "cell_type": "code",
   "execution_count": 4,
   "metadata": {},
   "outputs": [
    {
     "name": "stdout",
     "output_type": "stream",
     "text": [
      "Jacobi-Matrix: \n",
      " [[-15.   0.]\n",
      " [  1. -18.]]\n",
      "\n",
      "-f(x): \n",
      " [[-9.]\n",
      " [ 0.]]\n",
      "\n",
      "d0: \n",
      " [[0.6       ]\n",
      " [0.03333333]]\n",
      "\n",
      " x1: \n",
      " [[0.6       ]\n",
      " [1.03333333]]\n",
      "\n",
      "|f(x0)|:  9.0\n",
      "|f(x1)|:  0.18693632058958246\n",
      "Es muss KEINE Schrittweitendämpfung vorgenommen werden\n"
     ]
    }
   ],
   "source": [
    "import sympy as sy\n",
    "import numpy as np\n",
    "from numpy import linalg\n",
    "\n",
    "x0 = np.array([[0],[1]]) #x entspricht x1 und y x2.\n",
    "def f1(x,y):\n",
    "   return (x-3)**2-9*y*x\n",
    "def f2(x,y):\n",
    "   return x*y**2-18*sy.ln(y)\n",
    "\n",
    "\n",
    "x,y=sy.symbols('x, y')\n",
    "f1_x = sy.diff(f1(x,y), x)\n",
    "f1_y = sy.diff(f1(x,y), y)\n",
    "f2_x = sy.diff(f2(x,y), x)\n",
    "f2_y = sy.diff(f2(x,y), y)\n",
    "\n",
    "jacobi = np.empty([2,2])\n",
    "jacobi[0][0] = sy.Float(f1_x.subs([(x,x0[0][0]), (y, x0[1][0])]))\n",
    "jacobi[0][1] = sy.Float(f1_y.subs([(x,x0[0][0]), (y, x0[1][0])]))\n",
    "jacobi[1][0] = sy.Float(f2_x.subs([(x,x0[0][0]), (y, x0[1][0])]))\n",
    "jacobi[1][1] = sy.Float(f2_y.subs([(x,x0[0][0]), (y, x0[1][0])]))\n",
    "print(\"Jacobi-Matrix: \\n\", jacobi)\n",
    "\n",
    "b = np.empty([2,1])\n",
    "try:\n",
    "    b[0][0] = sy.Float(-f1(x0[0][0], x0[1][0]).evalf())\n",
    "except AttributeError: \n",
    "    b[0][0] = sy.Float(-f1(x0[0][0], x0[1][0]))\n",
    "try:\n",
    "    b[1][0] = sy.Float(-f2(x0[0][0], x0[1][0]).evalf())\n",
    "except AttributeError: \n",
    "    b[1][0] = sy.Float(-f2(x0[0][0], x0[1][0]))\n",
    "\n",
    "d = linalg.solve(jacobi, b)\n",
    "x1 = x0 + d\n",
    "\n",
    "b1 = np.empty([2,1])\n",
    "try:\n",
    "    b1[0][0] = sy.Float(f1(x1[0][0], x1[1][0]).evalf())\n",
    "except AttributeError: \n",
    "    b1[0][0] = sy.Float(f1(x1[0][0], x1[1][0]))\n",
    "try:\n",
    "    b1[1][0] = sy.Float(f2(x1[0][0], x1[1][0]).evalf())\n",
    "except AttributeError: \n",
    "    b1[1][0] = sy.Float(f2(x1[0][0], x1[1][0]))\n",
    "\n",
    "print(\"\\n-f(x): \\n\", b)\n",
    "print(\"\\nd0: \\n\", d)\n",
    "print(\"\\n x1: \\n\", x1)\n",
    "print(\"\\n|f(x0)|: \", np.linalg.norm(b))\n",
    "print(\"|f(x1)|: \", np.linalg.norm(b1))\n",
    "if (np.linalg.norm(b) > np.linalg.norm(b1)):\n",
    "    print(\"Es muss KEINE Schrittweitendämpfung vorgenommen werden\")\n",
    "else:\n",
    "    print(\"Es muss eine Schrittweitendämpfung vorgenommen werden\")"
   ]
  },
  {
   "cell_type": "code",
   "execution_count": null,
   "metadata": {},
   "outputs": [],
   "source": []
  }
 ],
 "metadata": {
  "kernelspec": {
   "display_name": "Python 3 (ipykernel)",
   "language": "python",
   "name": "python3"
  },
  "language_info": {
   "codemirror_mode": {
    "name": "ipython",
    "version": 3
   },
   "file_extension": ".py",
   "mimetype": "text/x-python",
   "name": "python",
   "nbconvert_exporter": "python",
   "pygments_lexer": "ipython3",
   "version": "3.9.7"
  }
 },
 "nbformat": 4,
 "nbformat_minor": 2
}
