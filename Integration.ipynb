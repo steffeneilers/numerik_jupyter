{
 "cells": [
  {
   "cell_type": "code",
   "execution_count": 5,
   "metadata": {},
   "outputs": [
    {
     "name": "stdout",
     "output_type": "stream",
     "text": [
      "h= 1.0\n",
      "exaktes Integral: 3048/55\n"
     ]
    }
   ],
   "source": [
    "import sympy as sy\n",
    "\n",
    "n=6\n",
    "a=0\n",
    "b=6\n",
    "def f(x):\n",
    "    return -16*x**3/165+48*x**2/55+4 #Eingabe Funktion mit Sympy\n",
    "\n",
    "h=(b-a)/n\n",
    "print(\"h=\",h)\n",
    "x=sy.symbols('x')\n",
    "exact = sy.integrate(f(x),(x,a,b))\n",
    "print(\"exaktes Integral: \" + str(exact)) # Beleg forderte  exaktes Integral, kann auch nicht schaden"
   ]
  },
  {
   "cell_type": "code",
   "execution_count": 11,
   "metadata": {},
   "outputs": [
    {
     "name": "stdout",
     "output_type": "stream",
     "text": [
      "A= 50.18181818181818\n"
     ]
    }
   ],
   "source": [
    "#### Rechteckregel, links ###\n",
    "A=0\n",
    "xi=0\n",
    "for i in range (0,n):\n",
    "    xi=a+i*h\n",
    "    A+=h*f(xi)\n",
    "print(\"A=\",A)"
   ]
  },
  {
   "cell_type": "code",
   "execution_count": 12,
   "metadata": {},
   "outputs": [
    {
     "name": "stdout",
     "output_type": "stream",
     "text": [
      "A= 55.41818181818182\n"
     ]
    }
   ],
   "source": [
    "### Rechteckregel, Mitte ###\n",
    "\n",
    "A=0\n",
    "xi=0\n",
    "for i in range (0,n):\n",
    "    xi=a+i*h+h/2\n",
    "    A+=h*f(xi)\n",
    "print(\"A=\",A)"
   ]
  },
  {
   "cell_type": "code",
   "execution_count": 13,
   "metadata": {},
   "outputs": [
    {
     "name": "stdout",
     "output_type": "stream",
     "text": [
      "A= 60.654545454545456\n"
     ]
    }
   ],
   "source": [
    "### Rechteckregel, Rechts ###\n",
    "\n",
    "A=0\n",
    "xi=0\n",
    "for i in range (1,n+1):\n",
    "    xi=a+i*h\n",
    "    A+=h*f(xi)\n",
    "print(\"A=\",A)"
   ]
  },
  {
   "cell_type": "markdown",
   "metadata": {},
   "source": [
    "Fehlerabschätzung (Reckteckregel, Links)\n",
    "ϕmax bestimmen\n",
    "1. max [a≤ξ≤b] |f′(ξ)| \n",
    "a.) erste Ableitung Null \n",
    "b.) Intervallgrenzen\n",
    "c.) nichtdifferenzierbare Stelle"
   ]
  },
  {
   "cell_type": "code",
   "execution_count": 8,
   "metadata": {},
   "outputs": [
    {
     "data": {
      "image/png": "[encoded data removed]",
      "text/plain": [
       "<Figure size 640x480 with 1 Axes>"
      ]
     },
     "metadata": {},
     "output_type": "display_data"
    }
   ],
   "source": [
    "import matplotlib.pyplot as plt\n",
    "import numpy as np\n",
    "xArr = np.arange(a, b, (b-a)/50)\n",
    "x=sy.symbols('x')\n",
    "f1=sy.diff(f(x))\n",
    "f2=sy.diff(f1)\n",
    "f3=sy.diff(f2)\n",
    "f4=sy.diff(f3)\n",
    "f5=sy.diff(f4)\n",
    "y = sy.lambdify(x, f1, \"numpy\")\n",
    "y = y(xArr)\n",
    "plt.plot(xArr, y)\n",
    "plt.show()"
   ]
  },
  {
   "cell_type": "code",
   "execution_count": 9,
   "metadata": {},
   "outputs": [
    {
     "name": "stdout",
     "output_type": "stream",
     "text": [
      "max=  2.61818181818182\n"
     ]
    },
    {
     "data": {
      "text/latex": [
       "$\\displaystyle 47127.2727272727 \\leq n \\vee n < 0$"
      ],
      "text/plain": [
       "(47127.2727272727 <= n) | (n < 0)"
      ]
     },
     "execution_count": 9,
     "metadata": {},
     "output_type": "execute_result"
    }
   ],
   "source": [
    "phimax=10**(-3) #geforderte Genauigkeit eintragen\n",
    "xmax=3 #x-Wert des Betragsmaximums  eintragen\n",
    "\n",
    "x=sy.symbols('x')\n",
    "f1=sy.diff(f(x))\n",
    "#print(\"f'=\",f1)\n",
    "f2=sy.diff(f1)\n",
    "#print(\"f''=\",f2)\n",
    "max=f1.evalf(subs={x:xmax})\n",
    "print(\"max= \", max)\n",
    "nn=sy.symbols('n')\n",
    "sy.solve(sy.Le(max*((b-a)**2)/(2*nn),phimax)) "
   ]
  },
  {
   "cell_type": "markdown",
   "metadata": {},
   "source": [
    "### Trapezregel"
   ]
  },
  {
   "cell_type": "code",
   "execution_count": 18,
   "metadata": {},
   "outputs": [
    {
     "name": "stdout",
     "output_type": "stream",
     "text": [
      "h= 1.0\n",
      "exaktes Integral: 32/5 + 7*log(7)\n"
     ]
    }
   ],
   "source": [
    "import sympy as sy\n",
    "\n",
    "n=6\n",
    "a=3\n",
    "b=9\n",
    "def f(x):\n",
    "    return (5*x+1)/15+sy.ln(x-2) #Eingabe Funktion mit Sympy\n",
    "\n",
    "h=(b-a)/n\n",
    "print(\"h=\",h)\n",
    "exact = sy.integrate(f(x),(x,a,b))\n",
    "print(\"exaktes Integral: \" + str(exact)) # Beleg forderte  exaktes Integral, kann auch nicht schaden"
   ]
  },
  {
   "cell_type": "code",
   "execution_count": 19,
   "metadata": {},
   "outputs": [
    {
     "name": "stdout",
     "output_type": "stream",
     "text": [
      "A= 19.9522062865378\n"
     ]
    }
   ],
   "source": [
    "A=0\n",
    "sum=0\n",
    "xi=0\n",
    "for i in range (1,n):\n",
    "    xi=a+i*h\n",
    "    sum+=f(xi)\n",
    "try:\n",
    "    A=((b-a)/(2*n))*(f(a)+2*sum+f(b)).evalf()\n",
    "except AttributeError:\n",
    "    A=((b-a)/(2*n))*(f(a)+2*sum+f(b))\n",
    "print(\"A=\",A)\n",
    "x=sy.symbols('x')\n",
    "f1=sy.diff(f(x))\n",
    "f2=sy.diff(f1)\n",
    "f3=sy.diff(f2)\n",
    "f4=sy.diff(f3)\n",
    "f5=sy.diff(f4)"
   ]
  },
  {
   "cell_type": "markdown",
   "metadata": {},
   "source": [
    "Fehlerabschätzung (Trapezregel)\n",
    "ϕmax bestimmen\n",
    "1. max [a≤ξ≤b] |f′′(ξ)| \n",
    "a.) erste Ableitung Null \n",
    "b.) Intervallgrenzen\n",
    "c.) nichtdifferenzierbare Stelle"
   ]
  },
  {
   "cell_type": "code",
   "execution_count": 20,
   "metadata": {},
   "outputs": [
    {
     "data": {
      "image/png": "[encoded data removed]",
      "text/plain": [
       "<Figure size 432x288 with 1 Axes>"
      ]
     },
     "metadata": {
      "needs_background": "light"
     },
     "output_type": "display_data"
    }
   ],
   "source": [
    "import matplotlib.pyplot as plt\n",
    "import numpy as np\n",
    "xArr = np.arange(a, b, (b-a)/50) #np.arange(Schrittweite)\n",
    "x=sy.symbols('x')\n",
    "y = sy.lambdify(x, f2, \"numpy\")\n",
    "y = y(xArr)\n",
    "plt.plot(xArr, y)\n",
    "plt.show()"
   ]
  },
  {
   "cell_type": "code",
   "execution_count": 21,
   "metadata": {},
   "outputs": [
    {
     "name": "stdout",
     "output_type": "stream",
     "text": [
      "f'= 1/3 + 1/(x - 2)\n",
      "f''= -1/(x - 2)**2\n",
      "f'''= 2/(x - 2)**3\n",
      " max [a≤ξ≤b] |f′′(ξ)|= -0.250000000000000\n",
      "n="
     ]
    },
    {
     "data": {
      "text/latex": [
       "$\\displaystyle n \\neq 0$"
      ],
      "text/plain": [
       "Ne(n, 0)"
      ]
     },
     "execution_count": 21,
     "metadata": {},
     "output_type": "execute_result"
    }
   ],
   "source": [
    "phimax=10**(-2)   #geforderte Genauigkeit eintragen\n",
    "xmax=0          #x-Wert des Betragsmaximums eintragen\n",
    "\n",
    "x=sy.symbols('x')\n",
    "f1=sy.diff(f(x))\n",
    "print(\"f'=\",f1)\n",
    "f2=sy.diff(f1)\n",
    "print(\"f''=\",f2)\n",
    "f3=sy.diff(f2)\n",
    "print (\"f'''=\",f3)\n",
    "max=f2.evalf(subs={x:xmax})#x-wert von Max f'' eintragen NOTE: Scheinen nur halbiert richtig zu sein\n",
    "print(\" max [a≤ξ≤b] |f′′(ξ)|=\",max)\n",
    "nn=sy.symbols('n')\n",
    "print(\"n=\", end=\"\")\n",
    "sy.solve(sy.Le(max*((b-a)**3)/(12*nn**2),phimax))"
   ]
  },
  {
   "cell_type": "markdown",
   "metadata": {},
   "source": [
    "### Simpsonregel"
   ]
  },
  {
   "cell_type": "code",
   "execution_count": 17,
   "metadata": {},
   "outputs": [
    {
     "name": "stdout",
     "output_type": "stream",
     "text": [
      "h= 1.0\n",
      "0.333333333333333*log(7) + 19.366968148612\n"
     ]
    }
   ],
   "source": [
    "import sympy as sy\n",
    "import math\n",
    "\n",
    "m=3\n",
    "a=3\n",
    "b=9\n",
    "def f(x):\n",
    "    return (5*x+1)/15+sy.ln(x-2)\n",
    "\n",
    "n=2*m\n",
    "h=(b-a)/n\n",
    "print(\"h=\",h)\n",
    "sum=0\n",
    "A=0\n",
    "for i in range(1,n):\n",
    "    if i%2==1:\n",
    "        q=4\n",
    "    else:\n",
    "        q=2\n",
    "    sum+=q*f(a+(h*i))\n",
    "A=(h/3)*(f(a)+sum+f(b))\n",
    "print(A)\n",
    "x=sy.symbols('x')\n",
    "f1=sy.diff(f(x))\n",
    "f2=sy.diff(f1)\n",
    "f3=sy.diff(f2)\n",
    "f4=sy.diff(f3)\n",
    "f5=sy.diff(f4)"
   ]
  },
  {
   "cell_type": "code",
   "execution_count": 12,
   "metadata": {},
   "outputs": [
    {
     "data": {
      "image/png": "[encoded data removed]",
      "text/plain": [
       "<Figure size 432x288 with 1 Axes>"
      ]
     },
     "metadata": {
      "needs_background": "light"
     },
     "output_type": "display_data"
    }
   ],
   "source": [
    "import matplotlib.pyplot as plt\n",
    "import numpy as np\n",
    "xArr = np.arange(a, b, (b-a)/50) #ggf.Schrittweite anpassen\n",
    "x=sy.symbols('x')\n",
    "y = sy.lambdify(x, f4, \"numpy\")\n",
    "y = y(xArr)\n",
    "plt.plot(xArr, y)\n",
    "plt.show()"
   ]
  },
  {
   "cell_type": "code",
   "execution_count": 13,
   "metadata": {},
   "outputs": [
    {
     "name": "stdout",
     "output_type": "stream",
     "text": [
      "f(max)= -6.00000000000000\n",
      "n="
     ]
    },
    {
     "data": {
      "text/latex": [
       "$\\displaystyle n \\neq 0$"
      ],
      "text/plain": [
       "Ne(n, 0)"
      ]
     },
     "execution_count": 13,
     "metadata": {},
     "output_type": "execute_result"
    }
   ],
   "source": [
    "xmax=1\n",
    "phimax=10**(-9) #geforderte Genauigkeit eintragen\n",
    "\n",
    "max=f4.evalf(subs={x:xmax})\n",
    "print(\"f(max)=\",max)\n",
    "nn=sy.symbols('n')\n",
    "print(\"n=\", end=\"\")\n",
    "sy.solve(sy.Le(max*((b-a)**5)/(180*nn**4),phimax)) #Betragsmaximum vorn eintragen"
   ]
  },
  {
   "cell_type": "markdown",
   "metadata": {},
   "source": [
    "max a≤ξ≤b ∣f''''(ξ)∣"
   ]
  }
 ],
 "metadata": {
  "kernelspec": {
   "display_name": "Python 3 (ipykernel)",
   "language": "python",
   "name": "python3"
  },
  "language_info": {
   "codemirror_mode": {
    "name": "ipython",
    "version": 3
   },
   "file_extension": ".py",
   "mimetype": "text/x-python",
   "name": "python",
   "nbconvert_exporter": "python",
   "pygments_lexer": "ipython3",
   "version": "3.9.13"
  }
 },
 "nbformat": 4,
 "nbformat_minor": 4
}
