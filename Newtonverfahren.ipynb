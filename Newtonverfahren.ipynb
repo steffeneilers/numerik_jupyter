{
 "cells": [
  {
   "cell_type": "code",
   "execution_count": 2,
   "metadata": {},
   "outputs": [
    {
     "name": "stdout",
     "output_type": "stream",
     "text": [
      "x/sqrt(x**2 + 4) - sin(x)\n"
     ]
    }
   ],
   "source": [
    "import sympy as sy\n",
    "import math \n",
    "r=71\n",
    "def f(x):\n",
    "    return sy.cos(x)+sy.sqrt(4+x**2)-11 #Use the numpy module for calculating, the sympy for differentiating.\n",
    "    #return r**2*sy.acos(1-(x/r))-(r-x)*sy.sqrt(2*r*x-(x**2))-(1/3*(r**2)*math.pi) # Für die \"Kreisfläche dritteln\" Aufgabe\n",
    "\n",
    "x=sy.symbols('x')\n",
    "f1=sy.diff(f(x))\n",
    "print(f1)"
   ]
  },
  {
   "cell_type": "code",
   "execution_count": 4,
   "metadata": {
    "tags": []
   },
   "outputs": [
    {
     "name": "stdout",
     "output_type": "stream",
     "text": [
      "--------- 0 ---------\n",
      "f( 10.5 ) -0.786757764780019\n",
      "f'( 10.5 ) 1.86203432639415\n",
      "--------- 1 ---------\n",
      "f( 10.9225259188984 ) 0.0311406980819839\n",
      "f'( 10.9225259188984 ) 1.98097903215036\n",
      "--------- 2 ---------\n",
      "f( 10.9068060664534 ) 1.00245912708630e-5\n",
      "f'( 10.9068060664534 ) 1.97966254417956\n",
      "0.5\n",
      "--------- 3 ---------\n",
      "f( 10.9068010026655 ) 1.17594822768297e-12\n",
      "f'( 10.9068010026655 ) 1.97966208039756\n",
      "0.5\n",
      "--------- 4 ---------\n",
      "f( 10.9068010026649 ) 0\n",
      "f'( 10.9068010026649 ) 1.97966208039751\n",
      "0.5\n"
     ]
    }
   ],
   "source": [
    "x0 = 10.5\n",
    "damping = 0.5\n",
    "\n",
    "xprev = x0\n",
    "xNew = xprev-(f(xprev).evalf()/f1.subs(x, xprev).evalf())\n",
    "maxiter = 500\n",
    "i = 1\n",
    "print(\"---------\", 0, \"---------\")\n",
    "print(\"f(\", x0, \")\", f(x0).evalf())\n",
    "print(\"f'(\", x0, \")\", f1.subs(x, x0).evalf())\n",
    "print(\"---------\", 1, \"---------\")\n",
    "print(\"f(\", xNew, \")\", f(xNew))\n",
    "print(\"f'(\", xNew, \")\",  f1.subs(x, xNew).evalf())\n",
    "while f(xNew) != 0.0 and i <= maxiter:\n",
    "    j = 1\n",
    "    xprev = xNew\n",
    "    while abs(f(xprev)) < abs(f(xNew)):\n",
    "        a = damping**j\n",
    "        j = j+1\n",
    "        xNew = xprev-a*(f(xprev)/f1(xprev))\n",
    "        print(\"a=\", a, \"fx\", i+1, \"=\", f(xNew))\n",
    "        print(\"j=\", j)\n",
    "        if j == 5:\n",
    "            raise Exception(\"thats shit\")\n",
    "    xNew = xprev-(f(xprev)/ f1.subs(x, xprev).evalf())\n",
    "    print(\"---------\", i+1, \"---------\")\n",
    "    print(\"f(\", xNew, \")\", f(xNew))\n",
    "    print(\"f'(\", xNew, \")\",  f1.subs(x, xNew).evalf())\n",
    "    print(damping)\n",
    "    i = i+1"
   ]
  },
  {
   "cell_type": "code",
   "execution_count": null,
   "metadata": {},
   "outputs": [],
   "source": []
  }
 ],
 "metadata": {
  "interpreter": {
   "hash": "abd60b26aabfab18cec367dbcad95097cae573dede1b6129e8db5084af4b4122"
  },
  "kernelspec": {
   "display_name": "Python 3 (ipykernel)",
   "language": "python",
   "name": "python3"
  },
  "language_info": {
   "codemirror_mode": {
    "name": "ipython",
    "version": 3
   },
   "file_extension": ".py",
   "mimetype": "text/x-python",
   "name": "python",
   "nbconvert_exporter": "python",
   "pygments_lexer": "ipython3",
   "version": "3.9.7"
  }
 },
 "nbformat": 4,
 "nbformat_minor": 4
}
