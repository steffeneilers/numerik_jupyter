{
 "cells": [
  {
   "cell_type": "code",
   "execution_count": 2,
   "id": "ef143343",
   "metadata": {},
   "outputs": [
    {
     "name": "stdout",
     "output_type": "stream",
     "text": [
      "r 100 = [0.13333333 0.33333333 0.4        0.13333333]\n"
     ]
    }
   ],
   "source": [
    "import numpy as np\n",
    "\n",
    "pageRankMatrix = np.array([\n",
    "    [0,0,1/3,0],\n",
    "    [1/2,0,1/3,1],\n",
    "    [1/2,1,0,0],\n",
    "    [0,0,1/3,0]])\n",
    "    \n",
    "maxIter = 100 # maxIter=100 für relativ genaues Ergebnis\n",
    "\n",
    "r = np.array([0.25,0.25,0.25,0.25]) #Startvektor (Default = Gleiche Wichtigkeit für alle)\n",
    "for _ in range(maxIter):\n",
    "    r = np.dot(pageRankMatrix,r) #Multiplikation von r mit g\n",
    "print(f\"r\",maxIter,\"=\",r)"
   ]
  },
  {
   "cell_type": "code",
   "execution_count": null,
   "id": "0e1d5c79",
   "metadata": {},
   "outputs": [],
   "source": []
  }
 ],
 "metadata": {
  "kernelspec": {
   "display_name": "Python 3 (ipykernel)",
   "language": "python",
   "name": "python3"
  },
  "language_info": {
   "codemirror_mode": {
    "name": "ipython",
    "version": 3
   },
   "file_extension": ".py",
   "mimetype": "text/x-python",
   "name": "python",
   "nbconvert_exporter": "python",
   "pygments_lexer": "ipython3",
   "version": "3.9.7"
  }
 },
 "nbformat": 4,
 "nbformat_minor": 5
}
