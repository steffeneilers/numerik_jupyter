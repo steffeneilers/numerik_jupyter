{
 "cells": [
  {
   "cell_type": "code",
   "execution_count": 1,
   "source": [
    "import numpy as np\r\n",
    "import sympy as sy\r\n",
    "\r\n",
    "def f1(x):\r\n",
    "    return x**2\r\n",
    "def f2(x):\r\n",
    "    return x\r\n",
    "def f3(x):\r\n",
    "    return 1\r\n",
    "#def f4(x):\r\n",
    "    #return\r\n",
    "func = [f1,f2,f3] #alle Funktionen in die Liste eintragen\r\n",
    "p=np.array(\r\n",
    "    [[2000,493230],\r\n",
    "    [2004,498400],\r\n",
    "    [2008,515490],\r\n",
    "    [2012,520820],\r\n",
    "    [2016,575750]])\r\n",
    "prognose = 2020\r\n",
    "\r\n",
    "y = []\r\n",
    "for i in range(0,len(p)):\r\n",
    "    y.append(p[i][1])\r\n",
    "y = np.array(y)\r\n",
    "SL = sy.symbols('l1:%d'%(len(func)+1))\r\n",
    "a=np.zeros([len(y),len(func)])\r\n",
    "for i in range(0,len(func)):\r\n",
    "    for j in range (0,len(y)):\r\n",
    "        fun = func[i]\r\n",
    "        a[j][i]=fun(p[j][0])\r\n",
    "at=a.transpose()\r\n",
    "lg=np.dot(at,a)\r\n",
    "rg=np.dot(at,y)\r\n",
    "equations = []\r\n",
    "for i in range(0,len(func)):\r\n",
    "    aktfkt = 0\r\n",
    "    for j in range(0,len(func)):\r\n",
    "        aktfkt += SL[j]*lg[i][j]\r\n",
    "    equations.append(sy.Eq(aktfkt, rg[i]))\r\n",
    "sol = sy.solve(equations)\r\n",
    "print (sol)\r\n",
    "val = 0\r\n",
    "for i in range(len(func)):\r\n",
    "    fun = func[i] \r\n",
    "    val += sol[SL[i]]*fun(prognose)\r\n",
    "print(\"Prognose: \", val)"
   ],
   "outputs": [
    {
     "output_type": "stream",
     "name": "stdout",
     "text": [
      "{l1: 391.785714285714, l2: -1568724.92857143, l3: 1570802783.14286}\n",
      "Prognose:  620855.999999762\n"
     ]
    }
   ],
   "metadata": {}
  }
 ],
 "metadata": {
  "kernelspec": {
   "display_name": "Python 3",
   "language": "python",
   "name": "python3"
  },
  "language_info": {
   "codemirror_mode": {
    "name": "ipython",
    "version": 3
   },
   "file_extension": ".py",
   "mimetype": "text/x-python",
   "name": "python",
   "nbconvert_exporter": "python",
   "pygments_lexer": "ipython3",
   "version": "3.8.8"
  }
 },
 "nbformat": 4,
 "nbformat_minor": 4
}