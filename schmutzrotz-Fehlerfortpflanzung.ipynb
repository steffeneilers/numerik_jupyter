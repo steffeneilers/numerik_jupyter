{
 "cells": [
  {
   "cell_type": "code",
   "execution_count": 152,
   "id": "2456557a",
   "metadata": {},
   "outputs": [],
   "source": [
    "## Ableitung , Aufgabe Fehlerfortpflanzung ##\n",
    "\n",
    "import sympy as sy\n",
    "\n",
    "a=1330\n",
    "b=2871\n",
    "p=0.292777777777778*sy.pi\n",
    "\n",
    "a0=1330\n",
    "b0=2871\n",
    "p0=0.292777777777778*sy.pi\n",
    "\n",
    "def f(x):\n",
    "    return sy.sqrt((a**2)+(b**2)-2*a*b*sy.cos(p))     # Hier Funktion reinballern"
   ]
  },
  {
   "cell_type": "code",
   "execution_count": 153,
   "id": "21540ed1",
   "metadata": {},
   "outputs": [
    {
     "name": "stdout",
     "output_type": "stream",
     "text": [
      "Brückenlänge= 2320.27852326974\n"
     ]
    }
   ],
   "source": [
    "# Aufgabenteil a:\n",
    "print(\"Brückenlänge=\", f(x).evalf(subs={p:0.292777777777778*sy.pi}))\n"
   ]
  },
  {
   "cell_type": "code",
   "execution_count": 154,
   "id": "847cdb37",
   "metadata": {},
   "outputs": [
    {
     "name": "stdout",
     "output_type": "stream",
     "text": [
      "f'(x)= (a - 2871*cos(0.292777777777778*pi))/sqrt(a**2 - 5742*a*cos(0.292777777777778*pi) + 8242641)\n",
      "f'(x0)= -0.176613580246122\n"
     ]
    }
   ],
   "source": [
    "# Aufgabenteil b:\n",
    "# partielle Ableitung für a\n",
    "\n",
    "b=2871\n",
    "a=sy.symbols('a')\n",
    "f1=sy.diff(f(x))\n",
    "\n",
    "sa=f1.evalf(subs={a:a0})\n",
    "\n",
    "print(\"f'(x)=\", f1) # Gibt Ableitung nach a aus\n",
    "print(\"f'(x0)=\", f1.evalf(subs={a:a0})) # Gibt Ableitung an Stelle ___ aus"
   ]
  },
  {
   "cell_type": "code",
   "execution_count": 155,
   "id": "70a68ab8",
   "metadata": {},
   "outputs": [
    {
     "name": "stdout",
     "output_type": "stream",
     "text": [
      "f'(x)= (b - 1330*cos(0.292777777777778*pi))/sqrt(b**2 - 2660*b*cos(0.292777777777778*pi) + 1768900)\n",
      "f'(x0)= 0.889994630789649\n"
     ]
    }
   ],
   "source": [
    "# partielle Ableitung für b\n",
    "\n",
    "a=1330\n",
    "p=0.292777777777778*sy.pi\n",
    "\n",
    "b=sy.symbols('b')\n",
    "f1=sy.diff(f(x))\n",
    "\n",
    "sb=f1.evalf(subs={b:b0})\n",
    "\n",
    "print(\"f'(x)=\", f1) # Gibt Ableitung nach a aus\n",
    "print(\"f'(x0)=\", f1.evalf(subs={b:b0})) # Gibt Ableitung an Stelle ___ aus"
   ]
  },
  {
   "cell_type": "code",
   "execution_count": 156,
   "id": "ad656e7d",
   "metadata": {},
   "outputs": [
    {
     "name": "stdout",
     "output_type": "stream",
     "text": [
      "f'(x)= 3818430*sin(p)/sqrt(10011541 - 7636860*cos(p))\n",
      "f'(x0)= 1309.09275461481\n"
     ]
    }
   ],
   "source": [
    "# partielle Ableitung für phi\n",
    "\n",
    "a=1330\n",
    "b=2871\n",
    "p=sy.symbols('p')\n",
    "f1=sy.diff(f(x))\n",
    "\n",
    "sp=f1.evalf(subs={p:p0})\n",
    "\n",
    "print(\"f'(x)=\", f1) # Gibt Ableitung nach a aus\n",
    "print(\"f'(x0)=\", f1.evalf(subs={p:p0})) # Gibt Ableitung an Stelle ___ aus\n"
   ]
  },
  {
   "cell_type": "code",
   "execution_count": 158,
   "id": "bebae5ec",
   "metadata": {},
   "outputs": [
    {
     "name": "stdout",
     "output_type": "stream",
     "text": [
      "Ergebnis= 10.6660821103577 + 5.09091626794648*pi\n"
     ]
    }
   ],
   "source": [
    "# finally...\n",
    "dc=sa*(-10)+sb*10+(sp*0.00388888888888889*sy.pi)\n",
    "print(\"Ergebnis=\", dc)"
   ]
  },
  {
   "cell_type": "code",
   "execution_count": null,
   "id": "4fde2ab9",
   "metadata": {},
   "outputs": [],
   "source": []
  },
  {
   "cell_type": "code",
   "execution_count": null,
   "id": "c6815521",
   "metadata": {},
   "outputs": [],
   "source": []
  }
 ],
 "metadata": {
  "kernelspec": {
   "display_name": "Python 3 (ipykernel)",
   "language": "python",
   "name": "python3"
  },
  "language_info": {
   "codemirror_mode": {
    "name": "ipython",
    "version": 3
   },
   "file_extension": ".py",
   "mimetype": "text/x-python",
   "name": "python",
   "nbconvert_exporter": "python",
   "pygments_lexer": "ipython3",
   "version": "3.9.13"
  }
 },
 "nbformat": 4,
 "nbformat_minor": 5
}
