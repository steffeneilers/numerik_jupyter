{
 "cells": [
  {
   "cell_type": "markdown",
   "metadata": {},
   "source": [
    "### Ableitung mit Sympy"
   ]
  },
  {
   "cell_type": "code",
   "execution_count": 3,
   "metadata": {},
   "outputs": [
    {
     "name": "stdout",
     "output_type": "stream",
     "text": [
      "f'(x0)= 10.0000000000000\n",
      "f''(x0)= 2.00000000000000\n",
      "f'''(x0)= 0\n"
     ]
    },
    {
     "name": "stderr",
     "output_type": "stream",
     "text": [
      "C:\\Users\\patri\\AppData\\Roaming\\Python\\Python39\\site-packages\\IPython\\lib\\latextools.py:126: MatplotlibDeprecationWarning: \n",
      "The to_png function was deprecated in Matplotlib 3.4 and will be removed two minor releases later. Use mathtext.math_to_image instead.\n",
      "  mt.to_png(f, s, fontsize=12, dpi=dpi, color=color)\n",
      "C:\\Users\\patri\\AppData\\Roaming\\Python\\Python39\\site-packages\\IPython\\lib\\latextools.py:126: MatplotlibDeprecationWarning: \n",
      "The to_rgba function was deprecated in Matplotlib 3.4 and will be removed two minor releases later. Use mathtext.math_to_image instead.\n",
      "  mt.to_png(f, s, fontsize=12, dpi=dpi, color=color)\n",
      "C:\\Users\\patri\\AppData\\Roaming\\Python\\Python39\\site-packages\\IPython\\lib\\latextools.py:126: MatplotlibDeprecationWarning: \n",
      "The to_mask function was deprecated in Matplotlib 3.4 and will be removed two minor releases later. Use mathtext.math_to_image instead.\n",
      "  mt.to_png(f, s, fontsize=12, dpi=dpi, color=color)\n",
      "C:\\Users\\patri\\AppData\\Roaming\\Python\\Python39\\site-packages\\IPython\\lib\\latextools.py:126: MatplotlibDeprecationWarning: \n",
      "The MathtextBackendBitmap class was deprecated in Matplotlib 3.4 and will be removed two minor releases later. Use mathtext.math_to_image instead.\n",
      "  mt.to_png(f, s, fontsize=12, dpi=dpi, color=color)\n"
     ]
    },
    {
     "data": {
      "image/png": "[encoded data removed]",
      "text/latex": [
       "$\\displaystyle 2$"
      ],
      "text/plain": [
       "2"
      ]
     },
     "execution_count": 3,
     "metadata": {},
     "output_type": "execute_result"
    }
   ],
   "source": [
    "import sympy as sy\n",
    "\n",
    "x0=5\n",
    "h=0.005\n",
    "def f(x):\n",
    "    return x**2\n",
    "\n",
    "sy.init_printing()\n",
    "x=sy.symbols('x')\n",
    "f1=sy.diff(f(x))\n",
    "f2=sy.diff(f1)\n",
    "f3=sy.diff(f2)\n",
    "print(\"f'(x0)=\",f1.evalf(subs={x:x0}))\n",
    "print(\"f''(x0)=\",f2.evalf(subs={x:x0}))\n",
    "print(\"f'''(x0)=\",f3.evalf(subs={x:x0}))"
   ]
  },
  {
   "cell_type": "code",
   "execution_count": 20,
   "metadata": {},
   "outputs": [
    {
     "name": "stdout",
     "output_type": "stream",
     "text": [
      "f'(x) 5.03646081467028\n",
      "f''(x) -7.97606931289607\n",
      "f'''(x) -129.295895284542\n"
     ]
    }
   ],
   "source": [
    "### Vorwärtsdifferenzenquotient ###\n",
    "\n",
    "def ff(x):\n",
    "    return (f(x+h)-f(x))/h\n",
    "def fff(x):\n",
    "    return (ff(x+h)-ff(x))/h\n",
    "def ffff(x):\n",
    "    return (fff(x+h)-fff(x))/h\n",
    "\n",
    "print(\"f'(x)\",ff(x0))\n",
    "print(\"f''(x)\",fff(x0))\n",
    "print(\"f'''(x)\",ffff(x0))"
   ]
  },
  {
   "cell_type": "code",
   "execution_count": 21,
   "metadata": {},
   "outputs": [
    {
     "name": "stdout",
     "output_type": "stream",
     "text": [
      "f'(x) 5.07306833348498\n",
      "f''(x) -6.65933904340221\n",
      "f'''(x) -133.854464252181\n"
     ]
    }
   ],
   "source": [
    "### Rückwärtsdifferenzenquotient ###\n",
    "\n",
    "def ff(x):\n",
    "    return (f(x)-f(x-h))/h\n",
    "def fff(x):\n",
    "    return (ff(x)-ff(x-h))/h\n",
    "def ffff(x):\n",
    "    return (fff(x)-fff(x-h))/h\n",
    "\n",
    "print(\"f'(x)\",ff(x0))\n",
    "print(\"f''(x)\",fff(x0))\n",
    "print(\"f'''(x)\",ffff(x0))"
   ]
  },
  {
   "cell_type": "code",
   "execution_count": 22,
   "metadata": {},
   "outputs": [
    {
     "name": "stdout",
     "output_type": "stream",
     "text": [
      "f'(x) 5.05476457407763\n",
      "f''(x) -7.32150376293816\n",
      "f'''(x) -131.673026949386\n"
     ]
    }
   ],
   "source": [
    "### Zentraler Differenzenquotient ###\n",
    "\n",
    "def ff(x):\n",
    "    return (f(x+h)-f(x-h))/(2*h)\n",
    "def fff(x):\n",
    "    return (f(x+h)-2*f(x)+f(x-h))/(h**2)\n",
    "def ffff(x):\n",
    "    return (fff(x+h)-fff(x-h))/(2*h)\n",
    "\n",
    "print(\"f'(x)\",ff(x0))\n",
    "print(\"f''(x)\",fff(x0))\n",
    "print(\"f'''(x)\",ffff(x0))"
   ]
  }
 ],
 "metadata": {
  "interpreter": {
   "hash": "abd60b26aabfab18cec367dbcad95097cae573dede1b6129e8db5084af4b4122"
  },
  "kernelspec": {
   "display_name": "Python 3 (ipykernel)",
   "language": "python",
   "name": "python3"
  },
  "language_info": {
   "codemirror_mode": {
    "name": "ipython",
    "version": 3
   },
   "file_extension": ".py",
   "mimetype": "text/x-python",
   "name": "python",
   "nbconvert_exporter": "python",
   "pygments_lexer": "ipython3",
   "version": "3.9.7"
  }
 },
 "nbformat": 4,
 "nbformat_minor": 4
}
