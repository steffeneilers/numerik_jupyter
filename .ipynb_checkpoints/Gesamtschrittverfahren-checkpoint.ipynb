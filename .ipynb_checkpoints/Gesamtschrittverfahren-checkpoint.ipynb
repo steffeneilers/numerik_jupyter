{
 "cells": [
  {
   "cell_type": "code",
   "execution_count": 1,
   "metadata": {},
   "outputs": [
    {
     "name": "stdout",
     "output_type": "stream",
     "text": [
      "A: array([[ 5, -2,  0],\n",
      "       [ 0,  3,  2],\n",
      "       [-5,  0,  8]])\n",
      "b: array([-23,  -3,  -1])\n",
      "x1: [-4.6   -1.    -0.125]\n",
      "x2: [-5.         -0.91666667 -3.        ]\n",
      "x3: [-4.96666667  1.         -3.25      ]\n",
      "x4: [-4.2         1.16666667 -3.22916667]\n",
      "x5: [-4.13333333  1.15277778 -2.75      ]\n",
      "x6: [-4.13888889  0.83333333 -2.70833333]\n",
      "x7: [-4.26666667  0.80555556 -2.71180556]\n",
      "x*: array([-4.25714286,  0.85714286, -2.78571429])\n"
     ]
    }
   ],
   "source": [
    "## Gesamtschrittverfahren ##\n",
    "from pprint import pprint\n",
    "from numpy import array, zeros, diag, diagflat, dot\n",
    " \n",
    "A = array([[5,-2,0],[0,3,2],[-5,0,8]])\n",
    "b = array([-23,-3,-1])\n",
    "maxiter = 7\n",
    " \n",
    "def jacobi(A,b,N=25,x=None):\n",
    "    \"\"\"Solves the equation Ax=b via the Jacobi iterative method.\"\"\"\n",
    "    # Create an initial guess if needed                                                                                                                                                            \n",
    "    if x is None:\n",
    "        x = zeros(len(A[0]))\n",
    " \n",
    "    # Create a vector of the diagonal elements of A                                                                                                                                                \n",
    "    # and subtract them from A                                                                                                                                                                     \n",
    "    D = diag(A)\n",
    "    R = A - diagflat(D)\n",
    " \n",
    "    # Iterate for N times                                                                                                                                                                          \n",
    "    for i in range(N):\n",
    "        x = (b - dot(R,x)) / D\n",
    "    return x\n",
    " \n",
    "print (\"A: \", end=\"\")\n",
    "pprint(A)\n",
    "print (\"b: \", end=\"\")\n",
    "pprint(b)\n",
    "for i in range(1,maxiter+1):\n",
    "    sol = jacobi(A,b,i)\n",
    "    print (\"x%d: \" %i, end=\"\")\n",
    "    print(sol)\n",
    "print(\"x*: \", end=\"\")\n",
    "pprint(jacobi(A,b,200))"
   ]
  },
  {
   "cell_type": "code",
   "execution_count": null,
   "metadata": {},
   "outputs": [],
   "source": []
  }
 ],
 "metadata": {
  "interpreter": {
   "hash": "916dbcbb3f70747c44a77c7bcd40155683ae19c65e1c03b4aa3499c5328201f1"
  },
  "kernelspec": {
   "display_name": "Python 3 (ipykernel)",
   "language": "python",
   "name": "python3"
  },
  "language_info": {
   "codemirror_mode": {
    "name": "ipython",
    "version": 3
   },
   "file_extension": ".py",
   "mimetype": "text/x-python",
   "name": "python",
   "nbconvert_exporter": "python",
   "pygments_lexer": "ipython3",
   "version": "3.9.7"
  }
 },
 "nbformat": 4,
 "nbformat_minor": 2
}
