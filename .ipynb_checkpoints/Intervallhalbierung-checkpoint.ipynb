{
 "cells": [
  {
   "cell_type": "code",
   "execution_count": 1,
   "metadata": {},
   "outputs": [
    {
     "name": "stdout",
     "output_type": "stream",
     "text": [
      "-------- 1 --------\n",
      "a= 35\n",
      "b= 39\n",
      "(a+b)/2= 37.0\n",
      "f(a)= 2.0886597302841636\n",
      "f(b)= -1.9097375366766958\n",
      "f((a+b)/2= -0.05309644321593865\n",
      "-------- 2 --------\n",
      "a= 35\n",
      "b= 37.0\n",
      "(a+b)/2= 36.0\n",
      "f(a)= 2.0886597302841636\n",
      "f(b)= -0.05309644321593865\n",
      "f((a+b)/2= 0.979552250190542\n",
      "-------- 3 --------\n",
      "a= 36.0\n",
      "b= 37.0\n",
      "(a+b)/2= 36.5\n",
      "f(a)= 0.979552250190542\n",
      "f(b)= -0.05309644321593865\n",
      "f((a+b)/2= 0.45400880576787017\n"
     ]
    }
   ],
   "source": [
    "import numpy as np\n",
    "\n",
    "a=35\n",
    "b=39\n",
    "def f(x):\n",
    "    return 196*np.exp(-x/14)-14\n",
    "\n",
    "for i in range (1,4):\n",
    "    print(\"--------\",i,\"--------\")\n",
    "    if (f(a)>0 and f((a+b)/2)>0) or (f(a)<0 and f((a+b)/2)<0):\n",
    "        print(\"a=\",a)\n",
    "        print(\"b=\",b)\n",
    "        print(\"(a+b)/2=\",(a+b)/2)\n",
    "        print(\"f(a)=\",f(a))\n",
    "        print(\"f(b)=\",f(b))\n",
    "        print(\"f((a+b)/2=\",f((a+b)/2))\n",
    "        a=(a+b)/2\n",
    "        i=i+1\n",
    "    else:\n",
    "        print(\"a=\",a)\n",
    "        print(\"b=\",b)\n",
    "        print(\"(a+b)/2=\",(a+b)/2)\n",
    "        print(\"f(a)=\",f(a))\n",
    "        print(\"f(b)=\",f(b))\n",
    "        print(\"f((a+b)/2=\",f((a+b)/2))\n",
    "        b=(a+b)/2\n",
    "        i=i+1"
   ]
  },
  {
   "cell_type": "code",
   "execution_count": null,
   "metadata": {},
   "outputs": [],
   "source": []
  }
 ],
 "metadata": {
  "kernelspec": {
   "display_name": "Python 3 (ipykernel)",
   "language": "python",
   "name": "python3"
  },
  "language_info": {
   "codemirror_mode": {
    "name": "ipython",
    "version": 3
   },
   "file_extension": ".py",
   "mimetype": "text/x-python",
   "name": "python",
   "nbconvert_exporter": "python",
   "pygments_lexer": "ipython3",
   "version": "3.9.7"
  }
 },
 "nbformat": 4,
 "nbformat_minor": 4
}
