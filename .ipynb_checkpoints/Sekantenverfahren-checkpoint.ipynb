{
 "cells": [
  {
   "cell_type": "code",
   "execution_count": 1,
   "metadata": {},
   "outputs": [
    {
     "name": "stdout",
     "output_type": "stream",
     "text": [
      "Xk= 2.000000 f(Xk)= 1.463458\n",
      "-------1-------\n",
      "Xk-1= 2.000000 f(Xk-1)= 1.463458\n",
      "Xk= 4.000000 f(Xk)= -2.144183\n",
      "Xk+1= 2.811310\n",
      "-------2-------\n",
      "Xk-1= 4.000000 f(Xk-1)= -2.144183\n",
      "Xk= 2.811310 f(Xk)= 0.709085\n",
      "Xk+1= 3.106720\n"
     ]
    },
    {
     "data": {
      "text/plain": [
       "False"
      ]
     },
     "execution_count": 1,
     "metadata": {},
     "output_type": "execute_result"
    }
   ],
   "source": [
    "import numpy as np\n",
    "\n",
    "startIntervall = [2, 4]\n",
    "maxIter = 2\n",
    "def f(x):  # Funktion\n",
    "    return np.sin(x) * np.log(x**2 + 1)\n",
    "\n",
    "k = 0\n",
    "def sekantenVerfahren(k, prevXk, maxIter):\n",
    "    Xk = startIntervall[1]\n",
    "    nextXk = Xk - f(Xk) * (Xk - prevXk) / (f(Xk) - f(prevXk))\n",
    "    startIntervall[1] = nextXk\n",
    "    print(\"-------%d-------\" % k)\n",
    "    print(\"Xk-1= %f\" % prevXk, end=\" \")\n",
    "    print(\"f(Xk-1)= %f\" % f(prevXk))\n",
    "    print(\"Xk= %f\" % Xk, end=\" \")\n",
    "    print(\"f(Xk)= %f\" % f(Xk))\n",
    "    print(\"Xk+1= %f\" % nextXk)\n",
    "    return False if k == maxIter else sekantenVerfahren(k+1, Xk, maxIter)\n",
    "\n",
    "\n",
    "def startSekantenVerfahren(maxiter):\n",
    "    Xk = startIntervall[0]\n",
    "    print(\"Xk= %f\" % Xk, end=\" \")\n",
    "    print(\"f(Xk)= %f\" % f(Xk))\n",
    "    #intervallVerfahren(0)\n",
    "    return sekantenVerfahren(k+1, Xk, maxiter)\n",
    "\n",
    "\n",
    "startSekantenVerfahren(maxIter)"
   ]
  },
  {
   "cell_type": "code",
   "execution_count": null,
   "metadata": {},
   "outputs": [],
   "source": []
  }
 ],
 "metadata": {
  "kernelspec": {
   "display_name": "Python 3 (ipykernel)",
   "language": "python",
   "name": "python3"
  },
  "language_info": {
   "codemirror_mode": {
    "name": "ipython",
    "version": 3
   },
   "file_extension": ".py",
   "mimetype": "text/x-python",
   "name": "python",
   "nbconvert_exporter": "python",
   "pygments_lexer": "ipython3",
   "version": "3.9.7"
  }
 },
 "nbformat": 4,
 "nbformat_minor": 4
}
