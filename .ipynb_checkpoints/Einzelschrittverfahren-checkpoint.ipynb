{
 "cells": [
  {
   "cell_type": "code",
   "execution_count": 1,
   "id": "a465aa8f",
   "metadata": {},
   "outputs": [
    {
     "name": "stdout",
     "output_type": "stream",
     "text": [
      "[-21/8, 167/56, 1385/504]\n",
      "[-6193/4032, 34745/9408, 177895/84672]\n",
      "[-974807/677376, 5333263/1580544, 28463825/14224896]\n"
     ]
    }
   ],
   "source": [
    "import sympy as sy\n",
    "import numpy as np\n",
    "\n",
    "maxiter=3\n",
    "a=np.array([[-8,2,1],[3,7,-3],[6,-1,9]])\n",
    "b=np.array([1,21,0])\n",
    "x0=[0,0,0]\n",
    "l=np.array([[0,0,0],[a[1][0],0,0],[a[2][0],a[2][1],0]])\n",
    "d=np.array([[a[0][0],0,0],[0,a[1][1],0],[0,0,a[2][2]]])\n",
    "r=np.array([[0,a[0][1],a[0][2]],[0,0,a[1][2]],[0,0,0]])\n",
    "\n",
    "ld=l+d\n",
    "x1,x2,x3=sy.symbols('x1 x2 x3')\n",
    "for k in range (0,maxiter):\n",
    "    equ=[\n",
    "        sy.Eq(ld[0][0]*x1,-(x0[1]*r[0][1]+x0[2]*r[0][2])+b[0]),\n",
    "        sy.Eq(ld[1][0]*x1+ld[1][1]*x2,-(x0[2]*r[1][2])+b[1]),\n",
    "        sy.Eq(ld[2][0]*x1+ld[2][1]*x2+ld[2][2]*x3,b[2]),\n",
    "    ] \n",
    "    sol=sy.solve(equ)\n",
    "    x0[0]=sol[x1]\n",
    "    x0[1]=sol[x2]\n",
    "    x0[2]=sol[x3]\n",
    "    print(x0)"
   ]
  },
  {
   "cell_type": "code",
   "execution_count": null,
   "id": "151e903a",
   "metadata": {},
   "outputs": [],
   "source": []
  }
 ],
 "metadata": {
  "kernelspec": {
   "display_name": "Python 3 (ipykernel)",
   "language": "python",
   "name": "python3"
  },
  "language_info": {
   "codemirror_mode": {
    "name": "ipython",
    "version": 3
   },
   "file_extension": ".py",
   "mimetype": "text/x-python",
   "name": "python",
   "nbconvert_exporter": "python",
   "pygments_lexer": "ipython3",
   "version": "3.9.7"
  }
 },
 "nbformat": 4,
 "nbformat_minor": 5
}
