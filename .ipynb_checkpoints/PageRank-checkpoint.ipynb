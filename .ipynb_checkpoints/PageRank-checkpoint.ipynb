{
 "cells": [
  {
   "cell_type": "code",
   "execution_count": 3,
   "id": "ef143343",
   "metadata": {},
   "outputs": [
    {
     "name": "stdout",
     "output_type": "stream",
     "text": [
      "r 100 = [0.20588235 0.29411765 0.23529412 0.26470588]\n"
     ]
    }
   ],
   "source": [
    "import numpy as np\n",
    "\n",
    "pageRankMatrix = np.array([\n",
    "    [0,0,0,1/2],\n",
    "    [1/2,0,1/2,0],\n",
    "    [0,1/2,0,1/2],\n",
    "    [1/2,1/2,1/2,0]])\n",
    "    \n",
    "maxIter = 100 # maxIter=100 für relativ genaues Ergebnis\n",
    "\n",
    "r = np.array([0.25,0.25,0.25,0.25]) #Startvektor (Default = Gleiche Wichtigkeit für alle)\n",
    "for _ in range(maxIter):\n",
    "    r = np.dot(pageRankMatrix,r) #Multiplikation von r mit g\n",
    "print(f\"r\",maxIter,\"=\",r)"
   ]
  }
 ],
 "metadata": {
  "kernelspec": {
   "display_name": "Python 3 (ipykernel)",
   "language": "python",
   "name": "python3"
  },
  "language_info": {
   "codemirror_mode": {
    "name": "ipython",
    "version": 3
   },
   "file_extension": ".py",
   "mimetype": "text/x-python",
   "name": "python",
   "nbconvert_exporter": "python",
   "pygments_lexer": "ipython3",
   "version": "3.9.7"
  }
 },
 "nbformat": 4,
 "nbformat_minor": 5
}
