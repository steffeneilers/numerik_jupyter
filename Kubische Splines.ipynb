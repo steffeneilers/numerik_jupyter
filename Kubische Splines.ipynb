{
 "cells": [
  {
   "cell_type": "code",
   "execution_count": 2,
   "metadata": {},
   "outputs": [
    {
     "name": "stdout",
     "output_type": "stream",
     "text": [
      "m1= 24.0\n",
      "m2= -12.0\n",
      "c 0 = -28.0\n",
      "d 0 = -42.0\n",
      "c 1 = 44.0\n",
      "d 1 = -18.0\n",
      "c 2 = 8.0\n",
      "d 2 = 60.0\n",
      "s 0 = 1.33333333333333*x**3 + 16.0*x**2 + 36.0*x - 26.6666666666667\n",
      "s 1 = -2.0*x**3 + 6.0*x**2 + 26.0*x - 30.0\n",
      "s 2 = 0.666666666666667*x**3 - 10.0*x**2 + 58.0*x - 51.3333333333333\n"
     ]
    }
   ],
   "source": [
    "import sympy as sy\n",
    "import numpy as np\n",
    "\n",
    "p0 = [-4,0]\n",
    "p1 = [-1,-48]\n",
    "p2 = [2,30]\n",
    "p3 = [5,72]\n",
    "\n",
    "m=np.zeros(4)\n",
    "h=np.zeros(4)\n",
    "y=np.zeros(4)\n",
    "xx=np.zeros(4)\n",
    "c=np.zeros(4)\n",
    "d=np.zeros(4)\n",
    "m[0]=0\n",
    "m[3]=0\n",
    "h[0]=p1[0]-p0[0]\n",
    "h[1]=p2[0]-p1[0]\n",
    "h[2]=p3[0]-p2[0]\n",
    "y[0]=p0[1]\n",
    "y[1]=p1[1]\n",
    "y[2]=p2[1]\n",
    "y[3]=p3[1]\n",
    "xx[0]=p0[0]\n",
    "xx[1]=p1[0]\n",
    "xx[2]=p2[0]\n",
    "xx[3]=p3[0]\n",
    "m1,m2,x=sy.symbols(\"m1 m2 x\")\n",
    "\n",
    "mgleichungen=[\n",
    "    sy.Eq(h[0]*m[0]+2*(h[1]+h[0])*m1+h[1]*m2, (6*(y[2]-y[1]))/h[1]-(6*(y[1]-y[0]))/h[0]),\n",
    "    sy.Eq(h[1]*m1+2*(h[2]+h[1])*m2+h[2]*m[3], (6*(y[3]-y[2]))/h[2]-(6*(y[2]-y[1]))/h[1]),\n",
    "]\n",
    "sol=sy.solve(mgleichungen)\n",
    "m[1]=sol[m1]\n",
    "m[2]=sol[m2]\n",
    "print(\"m1=\",m[1])\n",
    "print(\"m2=\",m[2])\n",
    "for i in range (0,3):\n",
    "    c[i]=(y[i+1]-y[i])/h[i]-(h[i]*(m[i+1]-m[i]))/6\n",
    "    print (\"c\",i,\"=\",c[i])\n",
    "    d[i]=(y[i+1]+y[i])/2-(h[i]**2*(m[i+1]+m[i]))/12\n",
    "    print (\"d\",i,\"=\",d[i])\n",
    "for j in range (0,3):\n",
    "    print(\"s\",j,\"=\",sy.expand(m[j]*((xx[j+1]-x)**3)/(6*h[j])+m[j+1]*((x-xx[j])**3)/(6*h[j])+c[j]*(x-(xx[j]+xx[j+1])/2)+d[j]))"
   ]
  },
  {
   "cell_type": "code",
   "execution_count": 11,
   "metadata": {},
   "outputs": [
    {
     "name": "stdout",
     "output_type": "stream",
     "text": [
      "m1= 5.0588235294117645\n",
      "m2= -0.19607843137254902\n",
      "c 0 = -7.686274509803922\n",
      "d 0 = -3.686274509803922\n",
      "c 1 = 4.96078431372549\n",
      "d 1 = -8.147058823529411\n",
      "s 0 = 0.42156862745098*x**3 + 2.52941176470588*x**2 - 2.62745098039216*x - 8.0\n",
      "s 1 = -0.291938997821351*x**3 + 2.52941176470588*x**2 - 2.62745098039216*x - 8.0\n"
     ]
    }
   ],
   "source": [
    "import sympy as sy\n",
    "import numpy as np\n",
    "\n",
    "p0=[-2,4]\n",
    "p1=[0,-8]\n",
    "p2=[3,-1]\n",
    "\n",
    "m=np.zeros(3)\n",
    "h=np.zeros(3)\n",
    "y=np.zeros(3)\n",
    "xx=np.zeros(3)\n",
    "c=np.zeros(3)\n",
    "d=np.zeros(3)\n",
    "\n",
    "h[0]=p1[0]-p0[0]\n",
    "h[1]=p2[0]-p1[0]\n",
    "#h[2]=p3[0]-p2[0]\n",
    "y[0]=p0[1]\n",
    "y[1]=p1[1]\n",
    "y[2]=p2[1]\n",
    "#y[3]=p3[1]\n",
    "xx[0]=p0[0]\n",
    "xx[1]=p1[0]\n",
    "xx[2]=p2[0]\n",
    "#xx[3]=p3[0]\n",
    "m1,m2,x=sy.symbols(\"m1 m2 x\")\n",
    "\n",
    "mgleichungen=[\n",
    "    sy.Eq(h[0]*m[0]+2*(h[1]+h[0])*m1+h[1]*m2, (6*(y[2]-y[1]))/h[1]-(6*(y[1]-y[0]))/h[0]),\n",
    "    sy.Eq(h[1]*m1+2*(h[2]+h[1])*m2, (6*(y[2]-y[1]))/h[1]),\n",
    "]\n",
    "sol=sy.solve(mgleichungen)\n",
    "m[1]=sol[m1]\n",
    "m[2]=sol[m2]\n",
    "print(\"m1=\",m[1])\n",
    "print(\"m2=\",m[2])\n",
    "for i in range (0,2):\n",
    "    c[i]=(y[i+1]-y[i])/h[i]-(h[i]*(m[i+1]-m[i]))/6\n",
    "    print (\"c\",i,\"=\",c[i])\n",
    "    d[i]=(y[i+1]+y[i])/2-(h[i]**2*(m[i+1]+m[i]))/12\n",
    "    print (\"d\",i,\"=\",d[i])\n",
    "for j in range (0,2):\n",
    "    print(\"s\",j,\"=\",sy.expand(m[j]*((xx[j+1]-x)**3)/(6*h[j])+m[j+1]*((x-xx[j])**3)/(6*h[j])+c[j]*(x-(xx[j]+xx[j+1])/2)+d[j]))"
   ]
  }
 ],
 "metadata": {
  "kernelspec": {
   "display_name": "Python 3 (ipykernel)",
   "language": "python",
   "name": "python3"
  },
  "language_info": {
   "codemirror_mode": {
    "name": "ipython",
    "version": 3
   },
   "file_extension": ".py",
   "mimetype": "text/x-python",
   "name": "python",
   "nbconvert_exporter": "python",
   "pygments_lexer": "ipython3",
   "version": "3.9.7"
  }
 },
 "nbformat": 4,
 "nbformat_minor": 4
}
