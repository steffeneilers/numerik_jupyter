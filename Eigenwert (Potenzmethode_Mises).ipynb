{
 "cells": [
  {
   "cell_type": "code",
   "execution_count": 4,
   "id": "e36cd8db",
   "metadata": {},
   "outputs": [
    {
     "name": "stdout",
     "output_type": "stream",
     "text": [
      "l 1 = 5\n",
      "x 1 = [ 0.76249285  0.45749571 -0.45749571]\n",
      "\n",
      "l 2 = 11.69767441860465\n",
      "x 2 = [ 0.51739679  0.39707195 -0.75804646]\n",
      "\n",
      "l 3 = 13.761546257420008\n",
      "x 3 = [ 0.43344243  0.54029504 -0.7212551 ]\n",
      "\n"
     ]
    }
   ],
   "source": [
    "### Eigenwert Rechner: https://matrixcalc.org/de/vectors.html ####\n",
    "\n",
    "import numpy as np\n",
    "from numpy.linalg import norm\n",
    "\n",
    "maxIter = 3\n",
    "a=np.array([[5,3,-3],[3,-4,-10],[-3,-10,6]])\n",
    "\n",
    "x=np.array([1,0,0])\n",
    "\n",
    "x=np.transpose(x)\n",
    "l=0\n",
    "for k in range(0,maxIter):\n",
    "    y=np.dot(a,x)\n",
    "    l=np.dot(x,y)\n",
    "    x=np.dot(a,x)/abs(norm(np.dot(a,x)))\n",
    "    print(\"l\",k+1,\"=\",l)\n",
    "    print(\"x\",k+1,\"=\",x, end=\"\\n\\n\")"
   ]
  },
  {
   "cell_type": "code",
   "execution_count": null,
   "id": "e55513d7",
   "metadata": {},
   "outputs": [],
   "source": []
  }
 ],
 "metadata": {
  "kernelspec": {
   "display_name": "Python 3 (ipykernel)",
   "language": "python",
   "name": "python3"
  },
  "language_info": {
   "codemirror_mode": {
    "name": "ipython",
    "version": 3
   },
   "file_extension": ".py",
   "mimetype": "text/x-python",
   "name": "python",
   "nbconvert_exporter": "python",
   "pygments_lexer": "ipython3",
   "version": "3.9.13"
  }
 },
 "nbformat": 4,
 "nbformat_minor": 5
}
