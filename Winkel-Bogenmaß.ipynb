{
 "cells": [
  {
   "cell_type": "code",
   "execution_count": null,
   "id": "3ac58f13",
   "metadata": {},
   "outputs": [],
   "source": [
    "## Winkel in Bogenmaß ##"
   ]
  },
  {
   "cell_type": "code",
   "execution_count": 9,
   "id": "8c91897a",
   "metadata": {},
   "outputs": [
    {
     "name": "stdout",
     "output_type": "stream",
     "text": [
      "pi/3\n"
     ]
    }
   ],
   "source": [
    "import sympy as sy\n",
    "\n",
    "def f(x):\n",
    "    return sy.pi * x / 180\n",
    "\n",
    "x=60       # Hier Winkel eingeben\n",
    "\n",
    "print(f(x))"
   ]
  },
  {
   "cell_type": "code",
   "execution_count": null,
   "id": "194c0caf",
   "metadata": {},
   "outputs": [],
   "source": [
    "## Bogenmaß in Winkel ##"
   ]
  },
  {
   "cell_type": "code",
   "execution_count": 12,
   "id": "e8ffc50a",
   "metadata": {},
   "outputs": [
    {
     "name": "stdout",
     "output_type": "stream",
     "text": [
      "90\n"
     ]
    }
   ],
   "source": [
    "def g(x):\n",
    "    return 180 * x / sy.pi\n",
    "\n",
    "x=sy.pi/2\n",
    "\n",
    "print(g(x))"
   ]
  },
  {
   "cell_type": "code",
   "execution_count": null,
   "id": "cf56a8c3",
   "metadata": {},
   "outputs": [],
   "source": []
  }
 ],
 "metadata": {
  "kernelspec": {
   "display_name": "Python 3 (ipykernel)",
   "language": "python",
   "name": "python3"
  },
  "language_info": {
   "codemirror_mode": {
    "name": "ipython",
    "version": 3
   },
   "file_extension": ".py",
   "mimetype": "text/x-python",
   "name": "python",
   "nbconvert_exporter": "python",
   "pygments_lexer": "ipython3",
   "version": "3.9.13"
  }
 },
 "nbformat": 4,
 "nbformat_minor": 5
}
