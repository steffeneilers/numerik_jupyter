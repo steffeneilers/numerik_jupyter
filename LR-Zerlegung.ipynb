{
 "cells": [
  {
   "cell_type": "code",
   "execution_count": 2,
   "metadata": {},
   "outputs": [
    {
     "name": "stdout",
     "output_type": "stream",
     "text": [
      "l 2 =\n",
      " [[1. 0. 0.]\n",
      " [0. 0. 1.]\n",
      " [0. 1. 0.]]\n",
      "p:\n",
      " [[0. 0. 1.]\n",
      " [1. 0. 0.]\n",
      " [0. 1. 0.]]\n",
      "R:\n",
      " [[-8.     0.    -3.   ]\n",
      " [ 0.     4.     9.   ]\n",
      " [ 0.     0.    -3.375]]\n",
      "Vorzeichenwechsel unter der Hauptdiagonalen und spaltentausch gemäß l beachten\n",
      "l:\n",
      " [[ 2.     0.     0.   ]\n",
      " [ 0.625  2.     0.   ]\n",
      " [ 0.    -0.5    2.   ]]\n"
     ]
    }
   ],
   "source": [
    "import numpy as np\n",
    "\n",
    "a=[[0,4,9],[5,2,3],[-8,0,-3]]\n",
    "\n",
    "def frob(a,i):\n",
    "    n=len(a) #len ist die Länge von a/Dimension\n",
    "    f=np.eye(n) #einheitsmatrix mit n Zeilen\n",
    "    for k in range(i+1,n): #k zwischen i und n\n",
    "        f[k][i]=-a[k][i]/a[i][i]\n",
    "    return f\n",
    "\n",
    "l=np.zeros((len(a),len(a)))\n",
    "p=np.eye(len(a))\n",
    "pi=np.eye(len(a))\n",
    "temp=np.eye(len(a))\n",
    "for i in range(0,len(a)-1):\n",
    "    pivot=i\n",
    "    p=np.eye(len(a))\n",
    "    for k in range(i+1,len(a)):\n",
    "        if abs(a[pivot][i])<abs(a[k][i]):\n",
    "            pivot=k\n",
    "    temp[0]=p[i]\n",
    "    p[i]=p[pivot]\n",
    "    p[pivot]=temp[0]\n",
    "    a=np.dot(p,a)\n",
    "    pi=np.dot(p,pi)\n",
    "    l=l+frob(a,i)\n",
    "    if i>0:\n",
    "        print(\"l\",i+1,\"=\\n\",p)\n",
    "    a=np.dot(frob(a,i),a)\n",
    "print(\"p:\\n\",pi)\n",
    "print(\"R:\\n\",a)\n",
    "print(\"Vorzeichenwechsel unter der Hauptdiagonalen und spaltentausch gemäß l beachten\\nl:\\n\",l)\n"
   ]
  },
  {
   "cell_type": "markdown",
   "metadata": {},
   "source": [
    "Ly=Pb"
   ]
  },
  {
   "cell_type": "code",
   "execution_count": 14,
   "metadata": {},
   "outputs": [
    {
     "name": "stdout",
     "output_type": "stream",
     "text": [
      "-5.6 -1.3333333333333333 27.222222222222225\n"
     ]
    }
   ],
   "source": [
    "l=[[5,1,3],[0,3,0],[-10,1,-3]]\n",
    "ya=-28\n",
    "yb=-4\n",
    "yc=-27\n",
    "\n",
    "x=ya/l[0][0]\n",
    "y=(yb-l[1][0]*x)/l[1][1]\n",
    "z=(yc-l[2][0]*x-l[2][1]*y)/l[2][2]\n",
    "print(x,y,z)"
   ]
  },
  {
   "cell_type": "raw",
   "metadata": {},
   "source": [
    "Rx=y"
   ]
  },
  {
   "cell_type": "code",
   "execution_count": 15,
   "metadata": {},
   "outputs": [
    {
     "name": "stdout",
     "output_type": "stream",
     "text": [
      "-4.928888888888889 -0.4444444444444444 18.14814814814815\n"
     ]
    }
   ],
   "source": [
    "z=z/a[2][2]\n",
    "y=(y-a[1][2]*z)/a[1][1]\n",
    "x=(x-a[0][1]*y-a[0][2]*z)/a[0][0]\n",
    "print(x,y,z)"
   ]
  },
  {
   "cell_type": "markdown",
   "metadata": {},
   "source": [
    "### mit Skalierung/Pivot."
   ]
  },
  {
   "cell_type": "code",
   "execution_count": 13,
   "metadata": {},
   "outputs": [
    {
     "name": "stdout",
     "output_type": "stream",
     "text": [
      "l 2 =\n",
      " [[1. 0. 0.]\n",
      " [0. 0. 1.]\n",
      " [0. 1. 0.]]\n",
      "p:\n",
      " [[0. 1. 0.]\n",
      " [0. 0. 1.]\n",
      " [1. 0. 0.]]\n",
      "R:\n",
      " [[-3.          0.         -7.        ]\n",
      " [ 0.          8.         -3.33333333]\n",
      " [ 0.          0.         -6.41666667]]\n",
      "Vorzeichenwechsel unter der Hauptdiagonalen und spaltentausch gemäß l beachten\n",
      "l:\n",
      " [[ 0.          0.          0.        ]\n",
      " [-0.66666667  0.          0.        ]\n",
      " [-1.33333333  0.375       0.        ]]\n"
     ]
    }
   ],
   "source": [
    "import numpy as np\n",
    "\n",
    "a=[[2,3,-3],[-3,0,-7],[4,8,6]]\n",
    "\n",
    "def frob(a,i):\n",
    "    n=len(a) #len ist die Länge von a/Dimension\n",
    "    f=np.eye(n)#einheitsmatrix mit n Zeilen\n",
    "    for k in range(i+1,n):#k zwischen i und n\n",
    "        f[k][i]=-a[k][i]/a[i][i]\n",
    "    return f\n",
    "\n",
    "l=np.zeros((len(a),len(a)))\n",
    "p=np.eye(len(a))\n",
    "pi=np.eye(len(a))\n",
    "temp=np.eye(len(a))\n",
    "for i in range(0,len(a)-1):\n",
    "    pivot=i\n",
    "    p=np.eye(len(a))\n",
    "    zeilensumme=np.zeros(len(a))\n",
    "    for k in range(i,len(a)):\n",
    "        for j in range (i,len(a)):\n",
    "            zeilensumme[k]=zeilensumme[k]+abs(a[k][j])\n",
    "    for k in range(i+1,len(a)):\n",
    "        if abs(a[pivot][i]/zeilensumme[k-1])<abs(a[k][i]/zeilensumme[k]):\n",
    "            pivot=k\n",
    "    temp[0]=p[i]\n",
    "    p[i]=p[pivot]\n",
    "    p[pivot]=temp[0]\n",
    "    a=np.dot(p,a)\n",
    "    pi=np.dot(p,pi)\n",
    "    l=l-(frob(a,i)-np.eye(len(a)))\n",
    "    if i>0:\n",
    "        print(\"l\",i+1,\"=\\n\",p)\n",
    "    a=np.dot(frob(a,i),a)\n",
    "print(\"p:\\n\",pi)\n",
    "print(\"R:\\n\",a)\n",
    "print(\"Vorzeichenwechsel unter der Hauptdiagonalen und spaltentausch gemäß l beachten\\nl:\\n\",l)"
   ]
  },
  {
   "cell_type": "code",
   "execution_count": 11,
   "metadata": {},
   "outputs": [
    {
     "data": {
      "text/plain": [
       "{y1: -63.0000000000000, y2: -7.00000000000000, y3: -79.0000000000000}"
      ]
     },
     "execution_count": 11,
     "metadata": {},
     "output_type": "execute_result"
    }
   ],
   "source": [
    "l=[[1,0,0],[0,1,0],[-0.8,-0.8,1]]\n",
    "b=[-63,-7,-23]\n",
    "import sympy as sy\n",
    "y1,y2,y3=sy.symbols('y1 y2 y3')\n",
    "equ=[\n",
    "    sy.Eq(l[0][0]*y1,b[0]),\n",
    "    sy.Eq(l[1][0]*y1+l[1][1]*y2,b[1]),\n",
    "    sy.Eq(l[2][0]*y1+l[2][1]*y2+l[2][2]*y3,b[2]),\n",
    "]\n",
    "sy.solve(equ)"
   ]
  },
  {
   "cell_type": "code",
   "execution_count": 12,
   "metadata": {},
   "outputs": [
    {
     "data": {
      "text/plain": [
       "{xx1: 2.13333333333333, xx2: -3.79259259259259, xx3: -8.35555555555556}"
      ]
     },
     "execution_count": 12,
     "metadata": {},
     "output_type": "execute_result"
    }
   ],
   "source": [
    "xx1,xx2,xx3=sy.symbols('xx1 xx2 xx3')\n",
    "equ2=[\n",
    "    sy.Eq(a[2][2]*xx1,14.4),\n",
    "    sy.Eq(a[1][1]*xx1+a[1][2]*xx2,0),\n",
    "    sy.Eq(a[0][0]*xx1+a[0][1]*xx2+a[0][2]*xx3,8),\n",
    "    ]\n",
    "sy.solve(equ2)"
   ]
  },
  {
   "cell_type": "code",
   "execution_count": null,
   "metadata": {},
   "outputs": [],
   "source": []
  }
 ],
 "metadata": {
  "kernelspec": {
   "display_name": "Python 3 (ipykernel)",
   "language": "python",
   "name": "python3"
  },
  "language_info": {
   "codemirror_mode": {
    "name": "ipython",
    "version": 3
   },
   "file_extension": ".py",
   "mimetype": "text/x-python",
   "name": "python",
   "nbconvert_exporter": "python",
   "pygments_lexer": "ipython3",
   "version": "3.9.7"
  }
 },
 "nbformat": 4,
 "nbformat_minor": 4
}
