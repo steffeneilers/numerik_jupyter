{
 "cells": [
  {
   "cell_type": "markdown",
   "id": "4faef9ee",
   "metadata": {},
   "source": [
    "### Cholesky-Zerlegung"
   ]
  },
  {
   "cell_type": "code",
   "execution_count": 1,
   "id": "85b41e91",
   "metadata": {},
   "outputs": [],
   "source": [
    "import math\n",
    "MAX = 100;\n",
    " \n",
    "def Cholesky_Decomposition(matrix, n):\n",
    " \n",
    "    lower = [[0 for x in range(n + 1)]\n",
    "                for y in range(n + 1)];\n",
    " \n",
    "    # Decomposing a matrix\n",
    "    # into Lower Triangular\n",
    "    for i in range(n):\n",
    "        for j in range(i + 1):\n",
    "            sum1 = 0;\n",
    " \n",
    "            # summation for diagonals\n",
    "            if (j == i):\n",
    "                for k in range(j):\n",
    "                    sum1 += pow(lower[j][k], 2);\n",
    "                lower[j][j] = int(math.sqrt(matrix[j][j] - sum1));\n",
    "            else:\n",
    "                 \n",
    "                # Evaluating L(i, j)\n",
    "                # using L(j, j)\n",
    "                for k in range(j):\n",
    "                    sum1 += (lower[i][k] *lower[j][k]);\n",
    "                if(lower[j][j] > 0):\n",
    "                    lower[i][j] = int((matrix[i][j] - sum1) /\n",
    "                                               lower[j][j]);\n",
    " \n",
    "    # Displaying Lower Triangular\n",
    "    # and its Transpose\n",
    "    print(\"Lower Triangular\\t\\tTranspose\");\n",
    "    for i in range(n):\n",
    "         \n",
    "        # Lower Triangular\n",
    "        for j in range(n):\n",
    "            print(lower[i][j], end = \"\\t\");\n",
    "        print(\"\", end = \"\\t\");\n",
    "         \n",
    "        # Transpose of\n",
    "        # Lower Triangular\n",
    "        for j in range(n):\n",
    "            print(lower[j][i], end = \"\\t\");\n",
    "        print(\"\");"
   ]
  },
  {
   "cell_type": "code",
   "execution_count": 3,
   "id": "f0b33361",
   "metadata": {},
   "outputs": [
    {
     "name": "stdout",
     "output_type": "stream",
     "text": [
      "Lower Triangular\t\tTranspose\n",
      "7\t0\t0\t\t7\t-7\t1\t\n",
      "-7\t2\t0\t\t0\t2\t-4\t\n",
      "1\t-4\t8\t\t0\t0\t8\t\n"
     ]
    }
   ],
   "source": [
    "# Driver Code\n",
    "n = 3;\n",
    "matrix = [[49, -49, 7],\n",
    "          [-49, 53, -15],\n",
    "          [7, -15, 81]];\n",
    "Cholesky_Decomposition(matrix, n);"
   ]
  },
  {
   "cell_type": "code",
   "execution_count": null,
   "id": "414bcdeb",
   "metadata": {},
   "outputs": [],
   "source": []
  }
 ],
 "metadata": {
  "kernelspec": {
   "display_name": "Python 3 (ipykernel)",
   "language": "python",
   "name": "python3"
  },
  "language_info": {
   "codemirror_mode": {
    "name": "ipython",
    "version": 3
   },
   "file_extension": ".py",
   "mimetype": "text/x-python",
   "name": "python",
   "nbconvert_exporter": "python",
   "pygments_lexer": "ipython3",
   "version": "3.9.7"
  }
 },
 "nbformat": 4,
 "nbformat_minor": 5
}
