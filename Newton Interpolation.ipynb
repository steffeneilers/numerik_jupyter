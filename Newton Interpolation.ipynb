{
 "cells": [
  {
   "cell_type": "code",
   "execution_count": 10,
   "metadata": {},
   "outputs": [
    {
     "name": "stdout",
     "output_type": "stream",
     "text": [
      "[-0.3302752293577982, -0.16393442622950816, -0.5578947368421053]\n",
      "[-0.34654333985060426, -0.25253866064910074]\n",
      "[-0.195843081669799]\n"
     ]
    },
    {
     "data": {
      "text/plain": [
       "0"
      ]
     },
     "execution_count": 10,
     "metadata": {},
     "output_type": "execute_result"
    }
   ],
   "source": [
    "# Newtonsches Interpolationsschema\n",
    "# Calc zum Lösen der Gleichung: https://planetcalc.com/9023/\n",
    "\n",
    "P0 = (0.96,0.63)\n",
    "P1 = (-0.13,0.99)\n",
    "P2 = (0.48,0.89)\n",
    "P3 = (1.43,0.36)\n",
    "Pges = [P0, P1, P2, P3]\n",
    "results = [0,0,0]\n",
    "\n",
    "def iterate(maxiter, initialize):\n",
    "    if maxiter > 1:\n",
    "        for i in range(0,maxiter-1):\n",
    "            if initialize:\n",
    "                results[i] = (Pges[i+1][1] - Pges[i][1]) / (Pges[i+1][0] - Pges[i][0])\n",
    "            else:\n",
    "                 results[i] = (results[i+1] - results[i]) / (Pges[i+2][0] - Pges[i][0])\n",
    "        print(results[0:maxiter-1])\n",
    "        return iterate(maxiter-1, False)\n",
    "    else:\n",
    "        return 0\n",
    "\n",
    "iterate(len(Pges), True)\n"
   ]
  },
  {
   "cell_type": "code",
   "execution_count": null,
   "metadata": {},
   "outputs": [],
   "source": []
  }
 ],
 "metadata": {
  "interpreter": {
   "hash": "916dbcbb3f70747c44a77c7bcd40155683ae19c65e1c03b4aa3499c5328201f1"
  },
  "kernelspec": {
   "display_name": "Python 3 (ipykernel)",
   "language": "python",
   "name": "python3"
  },
  "language_info": {
   "codemirror_mode": {
    "name": "ipython",
    "version": 3
   },
   "file_extension": ".py",
   "mimetype": "text/x-python",
   "name": "python",
   "nbconvert_exporter": "python",
   "pygments_lexer": "ipython3",
   "version": "3.9.7"
  }
 },
 "nbformat": 4,
 "nbformat_minor": 2
}
